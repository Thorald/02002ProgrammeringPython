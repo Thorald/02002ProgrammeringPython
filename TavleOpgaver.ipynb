{
 "cells": [
  {
   "cell_type": "code",
   "execution_count": 1,
   "metadata": {},
   "outputs": [],
   "source": [
    "# Uge 1\n",
    "\n",
    "# Tavlegennemgang - her var ikke opgaver gennemgået:^)"
   ]
  },
  {
   "cell_type": "code",
   "execution_count": 2,
   "metadata": {},
   "outputs": [
    {
     "name": "stdout",
     "output_type": "stream",
     "text": [
      "The train will arrive 1 after 0\n"
     ]
    }
   ],
   "source": [
    "# Uge 2 Code 2.1: Arrival Times\n",
    "\n",
    "hours = 23\n",
    "minutes = 59\n",
    "delay = 2\n",
    "\n",
    "arrival_hours = hours\n",
    "arrival_minutes = minutes + delay\n",
    "\n",
    "arrival_hours = arrival_hours + arrival_minutes // 60\n",
    "\n",
    "arrival_minutes = arrival_minutes % 60\n",
    "arrival_hours = arrival_hours % 24\n",
    "\n",
    "print('The train will arrive', arrival_minutes, 'after', arrival_hours)"
   ]
  },
  {
   "cell_type": "code",
   "execution_count": 4,
   "metadata": {},
   "outputs": [
    {
     "name": "stdout",
     "output_type": "stream",
     "text": [
      "A grid of size 5 x 5 is needed, leaving 8 empty cells\n"
     ]
    }
   ],
   "source": [
    "# Code 2.2: Photo Grid\n",
    "\n",
    "from math import *\n",
    "\n",
    "num_photos  = 17\n",
    "\n",
    "gridlength = ceil(sqrt(num_photos))\n",
    "\n",
    "photosleft = gridlength**2-num_photos\n",
    "\n",
    "print(\"A grid of size\" ,gridlength,\"x\",gridlength,\"is needed, leaving\",photosleft,\"empty cells\")\n"
   ]
  },
  {
   "cell_type": "code",
   "execution_count": 5,
   "metadata": {},
   "outputs": [
    {
     "name": "stdout",
     "output_type": "stream",
     "text": [
      "Normal\n"
     ]
    }
   ],
   "source": [
    "# Uge 3 Code 3.1: Blood Pressure\n",
    "\n",
    "systolic = 100\n",
    "diastolic = 50\n",
    "category = \"\"\n",
    "\n",
    "if diastolic < 60 and systolic < 90:\n",
    "    category = \"Low\"\n",
    "elif diastolic < 80 and systolic < 120:\n",
    "    category = \"Normal\"\n",
    "elif diastolic < 90 and systolic < 140:\n",
    "    category = \"Pre High\"\n",
    "elif diastolic < 100 and systolic < 160:\n",
    "    category = \"Stage 1 High\"\n",
    "else:\n",
    "    category = \"Stage 2 High\"\n",
    "\n",
    "print(category)"
   ]
  },
  {
   "cell_type": "code",
   "execution_count": 6,
   "metadata": {},
   "outputs": [
    {
     "name": "stdout",
     "output_type": "stream",
     "text": [
      "True False\n"
     ]
    }
   ],
   "source": [
    "# Code 3.2: Summer Days\n",
    "\n",
    "temperature = 15\n",
    "sunshine = True\n",
    "\n",
    "ice_cream = False\n",
    "sprinklers = False\n",
    "\n",
    "\n",
    "if temperature > 15 or sunshine:\n",
    "    ice_cream = True\n",
    "if temperature > 15 and sunshine:\n",
    "    sprinklers = True\n",
    "\n",
    "print(ice_cream,sprinklers)\n",
    "\n"
   ]
  },
  {
   "cell_type": "code",
   "execution_count": 7,
   "metadata": {},
   "outputs": [
    {
     "name": "stdout",
     "output_type": "stream",
     "text": [
      "17750.0\n",
      "21187.5\n",
      "25484.375\n",
      "30855.46875\n",
      "37569.3359375\n",
      "45961.669921875\n",
      "56452.08740234375\n",
      "69565.10925292969\n",
      "85956.38656616211\n",
      "106445.48320770264\n"
     ]
    }
   ],
   "source": [
    "# Uge 4 Code 4.1: Fish Population\n",
    "\n",
    "r = 0.25\n",
    "population = 15000\n",
    "licenses = 1000\n",
    "\n",
    "for i in range(10):\n",
    "    population=population+r*population-1000\n",
    "    print(population)\n",
    "\n"
   ]
  },
  {
   "cell_type": "code",
   "execution_count": 8,
   "metadata": {},
   "outputs": [
    {
     "name": "stdout",
     "output_type": "stream",
     "text": [
      "1.4278431229270645\n"
     ]
    }
   ],
   "source": [
    "# Uge 5 Code 5.1: Fall Duration\n",
    "\n",
    "def fall_duration(s):\n",
    "    g = 9.81\n",
    "    return (sqrt(2*s/g))\n",
    "\n",
    "print(fall_duration(10))\n"
   ]
  },
  {
   "cell_type": "code",
   "execution_count": 9,
   "metadata": {},
   "outputs": [
    {
     "name": "stdout",
     "output_type": "stream",
     "text": [
      "Good night\n"
     ]
    }
   ],
   "source": [
    "# Code 5.2: Customized Greeting\n",
    "\n",
    "def customized_greeting(hours, minutes):\n",
    "    if 0 <= hours < 4:\n",
    "        return \"Good night\"\n",
    "    if 4 <= hours < 5:\n",
    "        if minutes < 30 :\n",
    "            return \"Good night\"\n",
    "        else:\n",
    "            return \"Good morning\"\n",
    "    if 5 <= hours < 12:\n",
    "        return \"Good morning\"\n",
    "    if 12 <= hours < 17:\n",
    "        return \"Good afternoon\"\n",
    "    if 17 <= hours < 18:\n",
    "        if minutes < 30 :\n",
    "            return \"Good afternoon\"\n",
    "        else:\n",
    "            return \"Good evening\"\n",
    "    if 18 <= hours < 23:\n",
    "        return \"Good evening\"\n",
    "    if 23 <= hours < 24:\n",
    "        return \"Good night\"\n",
    "    \n",
    "print(customized_greeting(4,29))"
   ]
  },
  {
   "cell_type": "code",
   "execution_count": 10,
   "metadata": {},
   "outputs": [
    {
     "name": "stdout",
     "output_type": "stream",
     "text": [
      "[-1]\n"
     ]
    }
   ],
   "source": [
    "# Uge 6 Code 6.1: Stable Measurements\n",
    "\n",
    "def stable_measurements(myList):\n",
    "\n",
    "    for i in range(1,len(myList)-1):\n",
    "\n",
    "        if max(myList[:i]) < myList[i] and min(myList[i+1:]) > myList[i]:\n",
    "\n",
    "            return myList[i:]\n",
    "        \n",
    "    return [-1]\n",
    "\n",
    "print(stable_measurements([1.1, 0.7, 3.4, 2.5]))"
   ]
  },
  {
   "cell_type": "code",
   "execution_count": 11,
   "metadata": {},
   "outputs": [
    {
     "name": "stdout",
     "output_type": "stream",
     "text": [
      "[0, 300, 500]\n"
     ]
    }
   ],
   "source": [
    "# Code 6.2: State Durations\n",
    "\n",
    "def state_durations(states,times):\n",
    "    off = 0\n",
    "    on = 0\n",
    "    cooling = 0\n",
    "\n",
    "    for i in range(len(states)-1):\n",
    "        if states[i] == 0:\n",
    "            off += times[i+1] - times[i]\n",
    "        elif states[i] == 1:\n",
    "            on += times[i+1] - times[i]\n",
    "        elif states[i] == 2:\n",
    "            cooling += times[i+1] - times[i]\n",
    "\n",
    "    return([off,on,cooling])\n",
    "\n",
    "print(state_durations([1, 2, 1, 2, 0],[0, 200, 500, 600, 800]))"
   ]
  },
  {
   "cell_type": "code",
   "execution_count": 12,
   "metadata": {},
   "outputs": [
    {
     "name": "stdout",
     "output_type": "stream",
     "text": [
      "Euouae\n"
     ]
    }
   ],
   "source": [
    "# Uge 7 Code 7.1: Most Vowels\n",
    "\n",
    "def most_vowels(Sentence):\n",
    "    Sentence = Sentence.split()\n",
    "    vowels = list(\"aeiouAEIOU\")\n",
    "    maxCount = 0\n",
    "\n",
    "    for word in Sentence:\n",
    "        count = 0 \n",
    "        for letter in word:\n",
    "            if letter in vowels:\n",
    "                count += 1\n",
    "        if count > maxCount:\n",
    "            biggestWord = word\n",
    "            maxCount = count   \n",
    "\n",
    "    return(biggestWord)\n",
    "print(most_vowels(\"Beautiful mountains Euouae overlook the peaceful ocean \"))"
   ]
  },
  {
   "cell_type": "code",
   "execution_count": null,
   "metadata": {},
   "outputs": [],
   "source": [
    "# Code 7.2: Change Case\n",
    "\n",
    "def change_case (myWord):\n",
    "    newWord = \"\"\n",
    "    makeBig = False\n",
    "\n",
    "    for i in myWord:\n",
    "        if makeBig:\n",
    "            newWord += i.upper()\n",
    "            makeBig = False\n",
    "\n",
    "        elif i == \"_\":\n",
    "            makeBig = True\n",
    "\n",
    "        elif i.upper() == i:\n",
    "            newWord += \"_\" + i.lower()\n",
    "\n",
    "        else: newWord += i\n",
    "\n",
    "    return newWord\n",
    "\n",
    "print(change_case(\"this_is_identifier_name\"))\n"
   ]
  }
 ],
 "metadata": {
  "kernelspec": {
   "display_name": "base",
   "language": "python",
   "name": "python3"
  },
  "language_info": {
   "codemirror_mode": {
    "name": "ipython",
    "version": 3
   },
   "file_extension": ".py",
   "mimetype": "text/x-python",
   "name": "python",
   "nbconvert_exporter": "python",
   "pygments_lexer": "ipython3",
   "version": "3.12.4"
  }
 },
 "nbformat": 4,
 "nbformat_minor": 2
}
